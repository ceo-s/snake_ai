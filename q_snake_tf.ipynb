{
 "cells": [
  {
   "cell_type": "code",
   "execution_count": 31,
   "metadata": {},
   "outputs": [],
   "source": [
    "from snake_v0_ai import Game, RenderMode\n",
    "\n",
    "import tensorflow as tf\n",
    "\n",
    "import numpy as np\n",
    "import matplotlib.pyplot as plt\n",
    "\n",
    "import pickle\n",
    "import random\n",
    "from collections import deque\n",
    "from IPython.display import clear_output"
   ]
  },
  {
   "cell_type": "code",
   "execution_count": 32,
   "metadata": {},
   "outputs": [],
   "source": [
    "MAX_MEMORY = 100_000\n",
    "BATCH_SIZE = 1000\n",
    "LR = 1e-2\n",
    "GAMMA = 0.9\n",
    "\n",
    "GAME_FIELD_SIZE = 14\n",
    "\n",
    "STATE_VECTOR_SIZE = 11\n",
    "WEIGHTS_DIRECTORY = \"value_based/q/binary\""
   ]
  },
  {
   "cell_type": "code",
   "execution_count": 33,
   "metadata": {},
   "outputs": [],
   "source": [
    "class Linear(tf.Module):\n",
    "\n",
    "    def __init__(self, in_size: int, out_size: int):\n",
    "        super().__init__()\n",
    "        w = tf.random.normal((in_size, out_size))\n",
    "        b = tf.random.normal((out_size, ))\n",
    "        self.w = tf.Variable(w)\n",
    "        self.b = tf.Variable(b)\n",
    "\n",
    "    def __call__(self, x):\n",
    "        return x@self.w + self.b"
   ]
  },
  {
   "cell_type": "code",
   "execution_count": 34,
   "metadata": {},
   "outputs": [],
   "source": [
    "class Model(tf.Module):\n",
    "\n",
    "    def __init__(self, in_size: int, out_size: int, name: str):\n",
    "        super().__init__(name=name)\n",
    "        self.linear1 = Linear(in_size, 256)\n",
    "        self.linear2 = Linear(256, out_size)\n",
    "\n",
    "    def __call__(self, x) -> tf.Tensor:\n",
    "        x = self.linear1(x)\n",
    "        x = tf.nn.relu(x)\n",
    "        x = self.linear2(x)\n",
    "        x = tf.nn.softmax(x)\n",
    "        return x\n",
    "    \n",
    "    def save_weights(self, dir: str, prefix: str = \"\", postfix: str = \"\"):\n",
    "        with open(f\"{dir}/{prefix}{self.name}{postfix}.weights\", \"wb\") as file:\n",
    "            pickle.dump(self.trainable_variables, file)\n",
    "\n",
    "    def load_weights(self, path: str):\n",
    "        with open(path, \"rb\") as file:\n",
    "            weights = pickle.load(file)\n",
    "\n",
    "        for src, dest in zip(weights, self.trainable_variables):\n",
    "            dest.assign(src.numpy())            "
   ]
  },
  {
   "cell_type": "code",
   "execution_count": 35,
   "metadata": {},
   "outputs": [],
   "source": [
    "class Trainer:\n",
    "\n",
    "    def __init__(self, model: Model, lr, gamma) -> None:\n",
    "        self.lr = lr\n",
    "        self.gamma = gamma\n",
    "        self.model = model\n",
    "        self.optimizer = tf.optimizers.Adam(lr)\n",
    "\n",
    "    def train_step(self, states, actions, rewards, next_states, dones):\n",
    "        with tf.GradientTape() as tape:\n",
    "            pred = self.model(states)\n",
    "            target = pred.numpy()        \n",
    "\n",
    "            for i, done in enumerate(dones):\n",
    "                q_new = rewards[i]\n",
    "                if not done:\n",
    "                    q_new = rewards[i] + self.gamma * np.max(self.model(next_states[i][None, ...]).numpy())\n",
    "                    target[i][int(actions[i]) + 1] = q_new\n",
    "\n",
    "            loss = self.loss_func(target, pred)\n",
    "        \n",
    "        weights = self.model.trainable_variables\n",
    "        grads = tape.gradient(loss, (weights,))\n",
    "        self.optimizer.apply_gradients(zip(grads[0], weights))\n",
    "\n",
    "\n",
    "    def loss_func(self, true, pred):\n",
    "        return tf.reduce_mean(tf.losses.mse(true, pred))"
   ]
  },
  {
   "cell_type": "code",
   "execution_count": 36,
   "metadata": {},
   "outputs": [],
   "source": [
    "class Agent:\n",
    "\n",
    "    def __init__(self, model: Model, trainer: Trainer):\n",
    "        self.n_games = 0\n",
    "        self.epsilon = 0\n",
    "        self.gamma = 0\n",
    "        self.memory = deque(maxlen=MAX_MEMORY)\n",
    "        self.model = model\n",
    "        self.trainer = trainer\n",
    "        self.stats = {\n",
    "            \"scores\": [],\n",
    "            \"rewards\": [],\n",
    "        }\n",
    "\n",
    "    def remember(self, state, action, reward, next_state, done):\n",
    "        self.memory.append((state, action, reward, next_state, done))\n",
    "\n",
    "    def train_short_memory(self, *params):\n",
    "        # def train_short_memory(self, state, action, reward, next_state, done):\n",
    "        # self.trainer.train_step(\n",
    "        #     tf.convert_to_tensor([state]),\n",
    "        #     tf.convert_to_tensor([action]),\n",
    "        #     tf.convert_to_tensor([reward]),\n",
    "        #     tf.convert_to_tensor([next_state]),\n",
    "        #     tf.convert_to_tensor([done]),\n",
    "        # )\n",
    "        self.trainer.train_step(*[tf.convert_to_tensor([param], dtype=\"float32\") for param in params])\n",
    "\n",
    "    def train_long_memory(self):        \n",
    "        batch = random.sample(self.memory, BATCH_SIZE) \\\n",
    "            if len(self.memory) > BATCH_SIZE \\\n",
    "            else self.memory\n",
    "        \n",
    "        params = [tf.convert_to_tensor(param, dtype=\"float32\") for param in  zip(*batch)]\n",
    "        \n",
    "        self.trainer.train_step(*params)\n",
    "                    \n",
    "    def generate_action(self, state):\n",
    "        self.epsilon = 100 - self.n_games\n",
    "\n",
    "        if random.randint(0, 200) < self.epsilon:\n",
    "            action = random.choice([-1, 0, 1])\n",
    "\n",
    "        else:\n",
    "            action = self.model(state[None, ...]).numpy()\n",
    "            action = np.argmax(action) - 1\n",
    "        \n",
    "        return action\n",
    "    \n",
    "    def plot_statistics(self):\n",
    "        fig, (lax, rax) = plt.subplots(1, 2, figsize=(15, 5))\n",
    "        lax.plot(self.stats[\"scores\"])\n",
    "        lax.set_title(f\"Scores\")\n",
    "        rax.plot(self.stats[\"rewards\"])\n",
    "        rax.set_title(f\"Rewards\")\n",
    "        fig.suptitle(f\"{self.n_games} games\")\n",
    "        plt.show()\n",
    "\n",
    "    def backup(self):\n",
    "        self.model.save_weights(WEIGHTS_DIRECTORY, prefix=\"tf_\", postfix=f\"_{self.n_games}\")\n"
   ]
  },
  {
   "cell_type": "code",
   "execution_count": 45,
   "metadata": {},
   "outputs": [],
   "source": [
    "model = Model(STATE_VECTOR_SIZE, 3, name=\"model1\")"
   ]
  },
  {
   "cell_type": "code",
   "execution_count": 47,
   "metadata": {},
   "outputs": [],
   "source": [
    "model.load_weights(\"weights/q/tf_model1_1.weights\")"
   ]
  },
  {
   "cell_type": "code",
   "execution_count": 39,
   "metadata": {},
   "outputs": [],
   "source": [
    "trainer = Trainer(model, LR, GAMMA)\n",
    "agent = Agent(model, trainer)"
   ]
  },
  {
   "cell_type": "code",
   "execution_count": 40,
   "metadata": {},
   "outputs": [],
   "source": [
    "env = Game(GAME_FIELD_SIZE, mode=RenderMode.BINARY_VECTOR, verbose=True)"
   ]
  },
  {
   "cell_type": "code",
   "execution_count": 41,
   "metadata": {},
   "outputs": [],
   "source": [
    "def start_epoch(agent: Agent):\n",
    "    \n",
    "    old_state, info = env.reset()\n",
    "    steps_without_apple = 0\n",
    "    total_reward = 0\n",
    "    \n",
    "    done = False\n",
    "    while not done:\n",
    "        steps_without_apple += 1\n",
    "        action = agent.generate_action(old_state)\n",
    "        new_state, reward, done, _ = env.step(action)\n",
    "\n",
    "        if reward == 100:\n",
    "            steps_without_apple = 0\n",
    "\n",
    "        if steps_without_apple > env.setup.FIELD_SIZE**2 * 1.4:\n",
    "            reward = -100\n",
    "            break\n",
    "        \n",
    "        agent.train_short_memory(old_state, action, reward, new_state, done)\n",
    "        agent.remember(old_state, action, reward, new_state, done)\n",
    "        old_state = new_state\n",
    "\n",
    "        total_reward += reward\n",
    "\n",
    "    return env.score - 3, total_reward"
   ]
  },
  {
   "cell_type": "code",
   "execution_count": 42,
   "metadata": {},
   "outputs": [],
   "source": [
    "def train(agent: Agent, epochs: int, display_frequency: int = 100):\n",
    "    \n",
    "    for i in range(epochs):\n",
    "        score, reward = start_epoch(agent)\n",
    "        agent.n_games += 1\n",
    "        agent.stats[\"scores\"].append(score)\n",
    "        agent.stats[\"rewards\"].append(reward)\n",
    "        agent.train_long_memory()\n",
    "        clear_output(True)\n",
    "        print(f\"Epoch {i + 1}\", end=\"\\r\")\n",
    "        agent.plot_statistics()\n",
    "\n",
    "        if (i + 1) % display_frequency == 0:\n",
    "            agent.backup()"
   ]
  },
  {
   "cell_type": "code",
   "execution_count": 43,
   "metadata": {},
   "outputs": [
    {
     "name": "stdout",
     "output_type": "stream",
     "text": [
      "Epoch 1\r"
     ]
    },
    {
     "data": {
      "image/png": "[encoded data removed]",
      "text/plain": [
       "<Figure size 1500x500 with 2 Axes>"
      ]
     },
     "metadata": {},
     "output_type": "display_data"
    }
   ],
   "source": [
    "train(agent, 1, 1)"
   ]
  }
 ],
 "metadata": {
  "kernelspec": {
   "display_name": "q-learning-practice-7b5l1J-R-py3.11",
   "language": "python",
   "name": "python3"
  },
  "language_info": {
   "codemirror_mode": {
    "name": "ipython",
    "version": 3
   },
   "file_extension": ".py",
   "mimetype": "text/x-python",
   "name": "python",
   "nbconvert_exporter": "python",
   "pygments_lexer": "ipython3",
   "version": "3.11.5"
  }
 },
 "nbformat": 4,
 "nbformat_minor": 2
}
