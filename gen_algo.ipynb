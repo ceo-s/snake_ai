{
 "cells": [
  {
   "cell_type": "code",
   "execution_count": 1,
   "metadata": {},
   "outputs": [
    {
     "name": "stdout",
     "output_type": "stream",
     "text": [
      "pygame 2.5.2 (SDL 2.28.2, Python 3.11.5)\n",
      "Hello from the pygame community. https://www.pygame.org/contribute.html\n"
     ]
    }
   ],
   "source": [
    "from snake_v0_ai import Game, RenderMode\n",
    "from state_preprocessors import preprocess_frame, frame_to_vector_distanced\n",
    "from elitism import eaSimpleElitism\n",
    "\n",
    "import numpy as np\n",
    "import matplotlib.pyplot as plt\n",
    "\n",
    "from deap import base\n",
    "from deap import creator\n",
    "from deap import tools\n",
    "from deap import algorithms\n",
    "\n",
    "from functools import partial\n",
    "from IPython.display import clear_output\n",
    "from abc import ABC, abstractmethod\n",
    "from typing import Self, TypeVar, Sequence, Literal\n",
    "import multiprocessing\n",
    "import pickle"
   ]
  },
  {
   "cell_type": "code",
   "execution_count": 2,
   "metadata": {},
   "outputs": [],
   "source": [
    "T = TypeVar(\"T\")\n",
    "\n",
    "# Consts\n",
    "INDIVID_SIZE: int\n",
    "POPULATION_SIZE = 1000\n",
    "P_CROSSINGOCER = 0.9\n",
    "P_MUTATION = 0.1\n",
    "N_GENERATIONS = 200\n",
    "HALL_OF_FAME_SIZE = 3\n",
    "\n",
    "UP = 1\n",
    "LOW = -1\n",
    "ETA = 20\n",
    "\n",
    "FIELD_SIZE = 10\n",
    "D_VECTOR_SIZE = 18\n",
    "\n",
    "WEIGHTS_DIRECTORY = \"genetic_algorithms\""
   ]
  },
  {
   "cell_type": "code",
   "execution_count": 3,
   "metadata": {},
   "outputs": [],
   "source": [
    "class Activation(ABC):\n",
    "    \n",
    "    @abstractmethod\n",
    "    def __call__(self, x: T) -> T: ...\n",
    "\n",
    "class ReLU(Activation):\n",
    "    \n",
    "    def __call__(self, x: T) -> T:\n",
    "        x[x < 0] = 0\n",
    "        return x\n",
    "    \n",
    "class BinStep(Activation):\n",
    "\n",
    "    def __call__(self, x: T) -> T:\n",
    "        x[x < 0] = 0\n",
    "        x[x > 0] = 1\n",
    "        return x\n",
    "\n",
    "class Softmax(Activation):\n",
    "    \n",
    "    def __call__(self, x: T) -> T:\n",
    "        exp = np.exp(x)\n",
    "        exp_sum = exp.sum()\n",
    "        return np.round(exp/exp_sum, 3)\n",
    "\n",
    "class Sigmoid(Activation):\n",
    "\n",
    "    def __call__(self, x: T) -> T:\n",
    "        exp = np.exp(x)\n",
    "        return exp / (1 + exp)"
   ]
  },
  {
   "cell_type": "code",
   "execution_count": 4,
   "metadata": {},
   "outputs": [],
   "source": [
    "class Layer(ABC):\n",
    "\n",
    "    @abstractmethod\n",
    "    def __init__(self, in_params: int, out_params: int) -> None:\n",
    "        self.shape: tuple[int]\n",
    "    \n",
    "    @abstractmethod    \n",
    "    def __call__(self, x: T) -> T: ...\n",
    "\n",
    "    @property\n",
    "    @abstractmethod\n",
    "    def weights(self): ...\n",
    "    \n",
    "    @weights.setter\n",
    "    @abstractmethod\n",
    "    def weights(self): ...\n",
    "\n",
    "class Linear(Layer):\n",
    "\n",
    "    def __init__(self, in_params: int, out_params: int, bias: bool = True) -> None:\n",
    "        self.__weights = self.__init_weights(in_params, out_params, bias)\n",
    "        self.__with_bias = bias\n",
    "        self.shape = (in_params, out_params)\n",
    "\n",
    "    \n",
    "    def __call__(self, x: T) -> T:\n",
    "        w, b = self.__weights\n",
    "        res = x@w\n",
    "        if self.__with_bias:\n",
    "            res += b\n",
    "        return res\n",
    "        \n",
    "    def __init_weights(self, in_params: int, out_params: int, bias: bool = True) -> tuple[np.ndarray, np.ndarray]:\n",
    "        w = np.random.uniform(-1., 1., (in_params, out_params))\n",
    "        b = np.random.uniform(-1., 1., (out_params,)) if bias else None\n",
    "        return w, b\n",
    "    \n",
    "    @property\n",
    "    def weights(self) -> tuple[np.ndarray, np.ndarray]:\n",
    "        w, b = self.__weights\n",
    "        return w.copy(), b.copy() if self.__with_bias else None\n",
    "    \n",
    "    @weights.setter\n",
    "    def weights(self, weights: tuple[Sequence, Sequence]) -> None:\n",
    "        w, b = weights\n",
    "\n",
    "        w = np.array(w)\n",
    "        assert self.__weights[0].size == w.size\n",
    "        w = w.reshape(self.__weights[0].shape)\n",
    "\n",
    "        if self.__with_bias:\n",
    "            b = np.array(b)\n",
    "            assert self.__weights[1].size == b.size\n",
    "            b = b.reshape(self.__weights[1].shape)\n",
    "\n",
    "        else:\n",
    "            b = None\n",
    "\n",
    "        self.__weights = (w, b)"
   ]
  },
  {
   "cell_type": "code",
   "execution_count": 5,
   "metadata": {},
   "outputs": [],
   "source": [
    "class NN:\n",
    "\n",
    "    def __init__(self):\n",
    "        self.__configuration: tuple[Layer | Activation]\n",
    "        self.__layers: list[Layer]\n",
    "\n",
    "    def __call__(self, x: np.ndarray) -> np.ndarray:\n",
    "        for param in self.__configuration:\n",
    "            x = param(x)\n",
    "        return x\n",
    "    \n",
    "    @classmethod\n",
    "    def create(cls, *params: Layer | Activation) -> Self:                    \n",
    "        self = cls()\n",
    "        self.__configuration = params\n",
    "        self.__layers = [param for param in params if isinstance(param, Layer)]\n",
    "        return self\n",
    "    \n",
    "    @classmethod\n",
    "    def from_config(cls, params: str, mode: Literal[\"txt\", \"json\", \"yaml\"] = \"txt\") -> Self:\n",
    "        match mode:\n",
    "            case \"txt\":\n",
    "                params = eval(f\"[{params}]\")\n",
    "                \n",
    "            case \"json\":\n",
    "                ...\n",
    "\n",
    "            case \"yaml\":\n",
    "                ...\n",
    "        return cls.create(*params)\n",
    "    \n",
    "    @property\n",
    "    def parameters(self):\n",
    "        return [layer.weights for layer in self.__layers]\n",
    "    \n",
    "    def get_weights(self):\n",
    "        res = []\n",
    "        for w, b in self.parameters:\n",
    "            res += w.flatten().tolist()\n",
    "            res += b.flatten().tolist()\n",
    "        return res           \n",
    "\n",
    "    def set_weights(self, weights: list):\n",
    "        for layer in self.__layers:\n",
    "            s1, s2 = layer.shape\n",
    "            num_elements = (s1 + 1) * s2\n",
    "            elements = weights[:num_elements]\n",
    "            layer_w = elements[:-s2]\n",
    "            layer_b = elements[-s2:]\n",
    "            layer.weights = layer_w, layer_b\n",
    "            weights = weights[num_elements:]"
   ]
  },
  {
   "cell_type": "code",
   "execution_count": 22,
   "metadata": {},
   "outputs": [],
   "source": [
    "env = Game(FIELD_SIZE, mode=RenderMode.DISTANCED_VECTOR, verbose=False)"
   ]
  },
  {
   "cell_type": "code",
   "execution_count": 7,
   "metadata": {},
   "outputs": [],
   "source": [
    "nn = NN.create(\n",
    "    Linear(D_VECTOR_SIZE, 32),\n",
    "    ReLU(),\n",
    "    Linear(32, 20),\n",
    "    ReLU(),\n",
    "    Linear(20, 12),\n",
    "    ReLU(),\n",
    "    Linear(12, 3),\n",
    "    Softmax(),\n",
    ")"
   ]
  },
  {
   "cell_type": "code",
   "execution_count": 8,
   "metadata": {},
   "outputs": [],
   "source": [
    "# Model for vecorized input\n",
    "with open(\"weights/vectorized/conf.txt\") as conf:\n",
    "    nn = NN.from_config(conf.read())"
   ]
  },
  {
   "cell_type": "code",
   "execution_count": 86,
   "metadata": {},
   "outputs": [],
   "source": [
    "# Model for image input\n",
    "with open(\"weights/imaged/conf.txt\") as conf:\n",
    "    nn = NN.from_config(conf.read())"
   ]
  },
  {
   "cell_type": "code",
   "execution_count": 8,
   "metadata": {},
   "outputs": [
    {
     "name": "stdout",
     "output_type": "stream",
     "text": [
      "1559\n"
     ]
    }
   ],
   "source": [
    "INDIVID_SIZE = len(nn.get_weights())\n",
    "print(INDIVID_SIZE)"
   ]
  },
  {
   "cell_type": "code",
   "execution_count": 9,
   "metadata": {},
   "outputs": [
    {
     "data": {
      "text/plain": [
       "{'_NN__configuration': (<__main__.Linear at 0x7f1d19132450>,\n",
       "  <__main__.ReLU at 0x7f1d52eac210>,\n",
       "  <__main__.Linear at 0x7f1d2bfa4e50>,\n",
       "  <__main__.ReLU at 0x7f1d19424e10>,\n",
       "  <__main__.Linear at 0x7f1d191324d0>,\n",
       "  <__main__.ReLU at 0x7f1d19132390>,\n",
       "  <__main__.Linear at 0x7f1d191327d0>,\n",
       "  <__main__.Softmax at 0x7f1d19132590>),\n",
       " '_NN__layers': [<__main__.Linear at 0x7f1d19132450>,\n",
       "  <__main__.Linear at 0x7f1d2bfa4e50>,\n",
       "  <__main__.Linear at 0x7f1d191324d0>,\n",
       "  <__main__.Linear at 0x7f1d191327d0>]}"
      ]
     },
     "execution_count": 9,
     "metadata": {},
     "output_type": "execute_result"
    }
   ],
   "source": [
    "vars(nn)"
   ]
  },
  {
   "cell_type": "code",
   "execution_count": 10,
   "metadata": {},
   "outputs": [],
   "source": [
    "def save_population(population_obj, path: str):\n",
    "    with open(path, \"wb\") as file:\n",
    "        pickle.dump(population_obj, file)\n",
    "\n",
    "def load_population(path: str):\n",
    "    with open(path, \"rb\") as file:\n",
    "        return pickle.load(file)"
   ]
  },
  {
   "cell_type": "code",
   "execution_count": 11,
   "metadata": {},
   "outputs": [],
   "source": [
    "def simulated_binary_crossover(parent1: np.ndarray, parent2: np.ndarray, eta: float) -> tuple[np.ndarray, np.ndarray]:\n",
    "    rand = np.random.random(parent1.shape)\n",
    "    gamma = np.empty(parent1.shape)\n",
    "    gamma[rand <= 0.5] = (2 * rand[rand <= 0.5]) ** (1.0 / (eta + 1))\n",
    "    gamma[rand > 0.5] = (1.0 / (2.0 * (1.0 - rand[rand > 0.5]))) ** (1.0 / (eta + 1))\n",
    "\n",
    "    chromosome1 = creator.Individ( 0.5 * ((1 + gamma)*parent1 + (1 - gamma)*parent2) )\n",
    "    chromosome2 = creator.Individ( 0.5 * ((1 - gamma)*parent1 + (1 + gamma)*parent2) )\n",
    "\n",
    "    return chromosome1, chromosome2"
   ]
  },
  {
   "cell_type": "code",
   "execution_count": 12,
   "metadata": {},
   "outputs": [],
   "source": [
    "creator.create(\"FitnessMax\", base.Fitness, weights=(1.,))\n",
    "creator.create(\"Individ\", np.ndarray, fitness=creator.FitnessMax)"
   ]
  },
  {
   "cell_type": "code",
   "execution_count": 13,
   "metadata": {},
   "outputs": [],
   "source": [
    "toolbox = base.Toolbox()"
   ]
  },
  {
   "cell_type": "code",
   "execution_count": 14,
   "metadata": {},
   "outputs": [],
   "source": [
    "toolbox.register(\"init_weights\", np.random.triangular, -1., 0, 1., (INDIVID_SIZE,))\n",
    "toolbox.register(\"create_individ\", lambda x: creator.Individ(x()), toolbox.init_weights)\n",
    "toolbox.register(\"create_population\", tools.initRepeat, list, toolbox.create_individ)"
   ]
  },
  {
   "cell_type": "code",
   "execution_count": 15,
   "metadata": {},
   "outputs": [],
   "source": [
    "population = toolbox.create_population(POPULATION_SIZE)"
   ]
  },
  {
   "cell_type": "code",
   "execution_count": 16,
   "metadata": {},
   "outputs": [],
   "source": [
    "hof = tools.HallOfFame(HALL_OF_FAME_SIZE, similar=np.array_equal)"
   ]
  },
  {
   "cell_type": "code",
   "execution_count": 17,
   "metadata": {},
   "outputs": [],
   "source": [
    "toolbox.register(\"select\", tools.selTournament, tournsize=3)\n",
    "toolbox.register(\"mate\", simulated_binary_crossover, eta=ETA)\n",
    "# toolbox.register(\"mutate\", tools.mutPolynomialBounded, eta=ETA, low=LOW, up=UP, indpb=1./5)\n",
    "toolbox.register(\"mutate\", tools.mutGaussian, mu=1, sigma=0, indpb=1./4)"
   ]
  },
  {
   "cell_type": "code",
   "execution_count": 24,
   "metadata": {},
   "outputs": [],
   "source": [
    "pool = multiprocessing.Pool()\n",
    "toolbox.register(\"map\", pool.map)"
   ]
  },
  {
   "cell_type": "code",
   "execution_count": 18,
   "metadata": {},
   "outputs": [],
   "source": [
    "stats = tools.Statistics(lambda x: x.fitness.values)\n",
    "stats.register(\"max\", np.max)\n",
    "stats.register(\"avg\", np.mean)"
   ]
  },
  {
   "cell_type": "markdown",
   "metadata": {},
   "source": [
    "# Brute force straight from image"
   ]
  },
  {
   "cell_type": "code",
   "execution_count": 19,
   "metadata": {},
   "outputs": [],
   "source": [
    "# population = load_population(\"weights/imaged/population.pickle\")"
   ]
  },
  {
   "cell_type": "code",
   "execution_count": 15,
   "metadata": {},
   "outputs": [],
   "source": [
    "def play_game(ind):\n",
    "    nn.set_weights(ind)\n",
    "    state, _ = env.reset()\n",
    "    total_steps = 0\n",
    "    steps_without_reward = 0\n",
    "    done = False\n",
    "    while not done:\n",
    "        state = preprocess_frame(state).flatten()\n",
    "        action = np.argmax(nn(state)) - 1\n",
    "        state, reward, done, _ = env.step(action)\n",
    "        total_steps += 1\n",
    "        steps_without_reward += 1\n",
    "        if reward == 1:\n",
    "            steps_without_reward = 0\n",
    "        if steps_without_reward > 50:\n",
    "            break\n",
    "        \n",
    "    apples_eaten = env.score - 3 # 3 is snake initial size that also counting as scores\n",
    "    total_reward = total_steps + (2**apples_eaten + apples_eaten**2.1 * 500) - (apples_eaten**1.2 * (total_steps / 4)**1.3)\n",
    "    return total_reward,"
   ]
  },
  {
   "cell_type": "code",
   "execution_count": null,
   "metadata": {},
   "outputs": [],
   "source": [
    "toolbox.register(\"evaluate\", play_game)"
   ]
  },
  {
   "cell_type": "code",
   "execution_count": 42,
   "metadata": {},
   "outputs": [
    {
     "name": "stdout",
     "output_type": "stream",
     "text": [
      "gen\tnevals\tmax  \tavg    \n",
      "0  \t0     \t14702\t319.617\n"
     ]
    },
    {
     "name": "stderr",
     "output_type": "stream",
     "text": [
      "/home/alex/.cache/pypoetry/virtualenvs/q-learning-practice-7b5l1J-R-py3.11/lib64/python3.11/site-packages/deap/tools/mutation.py:85: RuntimeWarning: invalid value encountered in scalar power\n",
      "  delta_q = val ** mut_pow - 1.0\n",
      "/home/alex/.cache/pypoetry/virtualenvs/q-learning-practice-7b5l1J-R-py3.11/lib64/python3.11/site-packages/deap/tools/mutation.py:89: RuntimeWarning: invalid value encountered in scalar power\n",
      "  delta_q = 1.0 - val ** mut_pow\n"
     ]
    },
    {
     "name": "stdout",
     "output_type": "stream",
     "text": [
      "1  \t904   \t14702\t230.429\n",
      "2  \t894   \t14702\t258.152\n",
      "3  \t912   \t14702\t256.367\n",
      "4  \t904   \t14702\t265.833\n",
      "5  \t904   \t14702\t255.468\n",
      "6  \t902   \t14702\t274.308\n",
      "7  \t917   \t14702\t254.106\n",
      "8  \t898   \t14702\t255.79 \n",
      "9  \t916   \t14702\t263.136\n",
      "10 \t920   \t14702\t263.538\n",
      "11 \t910   \t14702\t245.335\n",
      "12 \t905   \t14702\t248.586\n",
      "13 \t922   \t14702\t256.253\n",
      "14 \t915   \t14702\t256.979\n",
      "15 \t916   \t14702\t263.918\n",
      "16 \t910   \t14702\t290.782\n",
      "17 \t912   \t14702\t259.91 \n",
      "18 \t914   \t14702\t267.862\n",
      "19 \t897   \t14702\t312.093\n",
      "20 \t893   \t14702\t310.629\n",
      "21 \t909   \t14702\t284.487\n",
      "22 \t909   \t14702\t289.375\n",
      "23 \t915   \t14702\t313.803\n",
      "24 \t904   \t14702\t263.171\n",
      "25 \t889   \t14702\t284.366\n",
      "26 \t912   \t14702\t270.268\n",
      "27 \t926   \t14702\t230.541\n",
      "28 \t912   \t14702\t259.176\n",
      "29 \t907   \t14702\t256.32 \n",
      "30 \t907   \t14702\t255.127\n",
      "31 \t899   \t14702\t282.529\n",
      "32 \t905   \t14702\t265.009\n",
      "33 \t915   \t14702\t269.943\n",
      "34 \t886   \t14702\t287.127\n",
      "35 \t901   \t14702\t270.43 \n",
      "36 \t900   \t14702\t250.696\n",
      "37 \t924   \t14702\t270.818\n",
      "38 \t907   \t14702\t257.01 \n",
      "39 \t912   \t14702\t253.368\n",
      "40 \t907   \t14702\t263.6  \n",
      "41 \t899   \t14702\t269.236\n",
      "42 \t901   \t14702\t271.712\n",
      "43 \t898   \t14702\t257.467\n",
      "44 \t916   \t14702\t241.516\n",
      "45 \t914   \t14702\t247.557\n",
      "46 \t890   \t14702\t253.397\n",
      "47 \t905   \t14702\t268.225\n",
      "48 \t907   \t14702\t243.773\n",
      "49 \t915   \t14702\t251.273\n",
      "50 \t914   \t14702\t307.118\n",
      "51 \t907   \t14702\t271.996\n",
      "52 \t919   \t14702\t273.497\n",
      "53 \t933   \t14702\t275.554\n",
      "54 \t908   \t14702\t272.56 \n",
      "55 \t910   \t14702\t248.934\n",
      "56 \t905   \t14702\t267.291\n",
      "57 \t910   \t14702\t253.089\n",
      "58 \t909   \t14702\t252.302\n",
      "59 \t915   \t14702\t244.762\n",
      "60 \t899   \t14702\t257.872\n",
      "61 \t918   \t14702\t250.101\n",
      "62 \t914   \t14702\t235.664\n",
      "63 \t916   \t14702\t257.696\n",
      "64 \t922   \t14702\t268.273\n",
      "65 \t896   \t14702\t261.243\n",
      "66 \t907   \t14702\t231.932\n",
      "67 \t916   \t14702\t232.052\n",
      "68 \t897   \t14702\t259.876\n",
      "69 \t872   \t14702\t253.811\n",
      "70 \t915   \t14702\t264.183\n",
      "71 \t913   \t14702\t273.385\n",
      "72 \t929   \t14702\t233.041\n",
      "73 \t882   \t14702\t292.203\n",
      "74 \t896   \t14702\t285.837\n",
      "75 \t919   \t14702\t249.997\n",
      "76 \t919   \t14702\t257.889\n",
      "77 \t914   \t14702\t249.762\n",
      "78 \t920   \t14702\t252.507\n",
      "79 \t886   \t14702\t277.406\n",
      "80 \t907   \t14702\t275.159\n",
      "81 \t907   \t14702\t252.881\n",
      "82 \t920   \t14702\t244.64 \n",
      "83 \t920   \t14702\t268.81 \n",
      "84 \t911   \t14702\t242.351\n",
      "85 \t896   \t14702\t255.307\n",
      "86 \t911   \t14702\t284.873\n",
      "87 \t914   \t14702\t255.417\n",
      "88 \t901   \t14702\t260.386\n",
      "89 \t920   \t14702\t300.938\n",
      "90 \t899   \t14702\t286.343\n",
      "91 \t912   \t14702\t280.648\n",
      "92 \t894   \t14702\t250.384\n",
      "93 \t908   \t14702\t255.216\n",
      "94 \t894   \t14702\t266.325\n",
      "95 \t925   \t14702\t240.83 \n",
      "96 \t889   \t14702\t268.964\n",
      "97 \t899   \t14702\t270.843\n",
      "98 \t890   \t14702\t289.99 \n",
      "99 \t918   \t14702\t261.395\n",
      "100\t895   \t14702\t290.724\n",
      "101\t922   \t14702\t281.586\n",
      "102\t921   \t14702\t308.672\n",
      "103\t913   \t14702\t262.505\n",
      "104\t894   \t14702\t248.027\n",
      "105\t920   \t14702\t226.04 \n",
      "106\t914   \t14702\t268.982\n",
      "107\t900   \t14702\t280.077\n",
      "108\t906   \t14702\t248.185\n",
      "109\t919   \t14702\t257.978\n",
      "110\t910   \t14702\t283.884\n",
      "111\t912   \t14702\t264.38 \n",
      "112\t904   \t14702\t283.032\n",
      "113\t903   \t14702\t267.207\n",
      "114\t902   \t14702\t270.773\n",
      "115\t896   \t14702\t253.587\n",
      "116\t898   \t14702\t265.737\n",
      "117\t906   \t14702\t287.785\n",
      "118\t895   \t14702\t271.023\n",
      "119\t897   \t14702\t265.415\n",
      "120\t903   \t14702\t274.833\n",
      "121\t897   \t14702\t258.532\n",
      "122\t909   \t14702\t289.226\n",
      "123\t924   \t14702\t245.583\n",
      "124\t903   \t14702\t267.034\n",
      "125\t879   \t14702\t277.482\n",
      "126\t904   \t14702\t237.417\n",
      "127\t918   \t14702\t249.911\n",
      "128\t918   \t14702\t265.011\n",
      "129\t895   \t14702\t245.456\n",
      "130\t929   \t14702\t250.91 \n",
      "131\t892   \t14702\t234.976\n",
      "132\t906   \t14702\t260.822\n",
      "133\t926   \t14702\t260.03 \n",
      "134\t914   \t14702\t262.733\n",
      "135\t919   \t14702\t254.774\n",
      "136\t880   \t14702\t271.568\n",
      "137\t910   \t14702\t276.88 \n",
      "138\t916   \t14702\t250.325\n",
      "139\t893   \t14702\t258.671\n",
      "140\t921   \t14702\t258.553\n",
      "141\t900   \t14702\t259.951\n",
      "142\t903   \t14702\t275.837\n",
      "143\t927   \t14702\t251.91 \n"
     ]
    },
    {
     "ename": "KeyboardInterrupt",
     "evalue": "",
     "output_type": "error",
     "traceback": [
      "\u001b[0;31m---------------------------------------------------------------------------\u001b[0m",
      "\u001b[0;31mKeyboardInterrupt\u001b[0m                         Traceback (most recent call last)",
      "\u001b[1;32m/home/alex/projects/q_learning_practice/gen_algo.ipynb Cell 35\u001b[0m line \u001b[0;36m1\n\u001b[0;32m----> <a href='vscode-notebook-cell:/home/alex/projects/q_learning_practice/gen_algo.ipynb#X43sZmlsZQ%3D%3D?line=0'>1</a>\u001b[0m population, logboook \u001b[39m=\u001b[39m eaSimpleElitism(\n\u001b[1;32m      <a href='vscode-notebook-cell:/home/alex/projects/q_learning_practice/gen_algo.ipynb#X43sZmlsZQ%3D%3D?line=1'>2</a>\u001b[0m     population,\n\u001b[1;32m      <a href='vscode-notebook-cell:/home/alex/projects/q_learning_practice/gen_algo.ipynb#X43sZmlsZQ%3D%3D?line=2'>3</a>\u001b[0m     toolbox,\n\u001b[1;32m      <a href='vscode-notebook-cell:/home/alex/projects/q_learning_practice/gen_algo.ipynb#X43sZmlsZQ%3D%3D?line=3'>4</a>\u001b[0m     cxpb\u001b[39m=\u001b[39;49mP_CROSSINGOCER,\n\u001b[1;32m      <a href='vscode-notebook-cell:/home/alex/projects/q_learning_practice/gen_algo.ipynb#X43sZmlsZQ%3D%3D?line=4'>5</a>\u001b[0m     mutpb\u001b[39m=\u001b[39;49mP_MUTATION,\n\u001b[1;32m      <a href='vscode-notebook-cell:/home/alex/projects/q_learning_practice/gen_algo.ipynb#X43sZmlsZQ%3D%3D?line=5'>6</a>\u001b[0m     \u001b[39m# ngen=N_GENERATIONS,\u001b[39;49;00m\n\u001b[1;32m      <a href='vscode-notebook-cell:/home/alex/projects/q_learning_practice/gen_algo.ipynb#X43sZmlsZQ%3D%3D?line=6'>7</a>\u001b[0m     ngen\u001b[39m=\u001b[39;49m\u001b[39m1000\u001b[39;49m,\n\u001b[1;32m      <a href='vscode-notebook-cell:/home/alex/projects/q_learning_practice/gen_algo.ipynb#X43sZmlsZQ%3D%3D?line=7'>8</a>\u001b[0m     stats\u001b[39m=\u001b[39;49mstats,\n\u001b[1;32m      <a href='vscode-notebook-cell:/home/alex/projects/q_learning_practice/gen_algo.ipynb#X43sZmlsZQ%3D%3D?line=8'>9</a>\u001b[0m     halloffame\u001b[39m=\u001b[39;49mhof,\n\u001b[1;32m     <a href='vscode-notebook-cell:/home/alex/projects/q_learning_practice/gen_algo.ipynb#X43sZmlsZQ%3D%3D?line=9'>10</a>\u001b[0m     verbose\u001b[39m=\u001b[39;49m\u001b[39mTrue\u001b[39;49;00m,\n\u001b[1;32m     <a href='vscode-notebook-cell:/home/alex/projects/q_learning_practice/gen_algo.ipynb#X43sZmlsZQ%3D%3D?line=10'>11</a>\u001b[0m )\n",
      "File \u001b[0;32m~/projects/q_learning_practice/elitism.py:37\u001b[0m, in \u001b[0;36meaSimpleElitism\u001b[0;34m(population, toolbox, cxpb, mutpb, ngen, stats, halloffame, verbose)\u001b[0m\n\u001b[1;32m     35\u001b[0m \u001b[39m# Evaluate the individuals with an invalid fitness\u001b[39;00m\n\u001b[1;32m     36\u001b[0m invalid_ind \u001b[39m=\u001b[39m [ind \u001b[39mfor\u001b[39;00m ind \u001b[39min\u001b[39;00m offspring \u001b[39mif\u001b[39;00m \u001b[39mnot\u001b[39;00m ind\u001b[39m.\u001b[39mfitness\u001b[39m.\u001b[39mvalid]\n\u001b[0;32m---> 37\u001b[0m fitnesses \u001b[39m=\u001b[39m toolbox\u001b[39m.\u001b[39;49mmap(toolbox\u001b[39m.\u001b[39;49mevaluate, invalid_ind)\n\u001b[1;32m     38\u001b[0m \u001b[39mfor\u001b[39;00m ind, fit \u001b[39min\u001b[39;00m \u001b[39mzip\u001b[39m(invalid_ind, fitnesses):\n\u001b[1;32m     39\u001b[0m     ind\u001b[39m.\u001b[39mfitness\u001b[39m.\u001b[39mvalues \u001b[39m=\u001b[39m fit\n",
      "File \u001b[0;32m/usr/lib64/python3.11/multiprocessing/pool.py:367\u001b[0m, in \u001b[0;36mPool.map\u001b[0;34m(self, func, iterable, chunksize)\u001b[0m\n\u001b[1;32m    362\u001b[0m \u001b[39mdef\u001b[39;00m \u001b[39mmap\u001b[39m(\u001b[39mself\u001b[39m, func, iterable, chunksize\u001b[39m=\u001b[39m\u001b[39mNone\u001b[39;00m):\n\u001b[1;32m    363\u001b[0m \u001b[39m    \u001b[39m\u001b[39m'''\u001b[39;00m\n\u001b[1;32m    364\u001b[0m \u001b[39m    Apply `func` to each element in `iterable`, collecting the results\u001b[39;00m\n\u001b[1;32m    365\u001b[0m \u001b[39m    in a list that is returned.\u001b[39;00m\n\u001b[1;32m    366\u001b[0m \u001b[39m    '''\u001b[39;00m\n\u001b[0;32m--> 367\u001b[0m     \u001b[39mreturn\u001b[39;00m \u001b[39mself\u001b[39;49m\u001b[39m.\u001b[39;49m_map_async(func, iterable, mapstar, chunksize)\u001b[39m.\u001b[39;49mget()\n",
      "File \u001b[0;32m/usr/lib64/python3.11/multiprocessing/pool.py:768\u001b[0m, in \u001b[0;36mApplyResult.get\u001b[0;34m(self, timeout)\u001b[0m\n\u001b[1;32m    767\u001b[0m \u001b[39mdef\u001b[39;00m \u001b[39mget\u001b[39m(\u001b[39mself\u001b[39m, timeout\u001b[39m=\u001b[39m\u001b[39mNone\u001b[39;00m):\n\u001b[0;32m--> 768\u001b[0m     \u001b[39mself\u001b[39;49m\u001b[39m.\u001b[39;49mwait(timeout)\n\u001b[1;32m    769\u001b[0m     \u001b[39mif\u001b[39;00m \u001b[39mnot\u001b[39;00m \u001b[39mself\u001b[39m\u001b[39m.\u001b[39mready():\n\u001b[1;32m    770\u001b[0m         \u001b[39mraise\u001b[39;00m \u001b[39mTimeoutError\u001b[39;00m\n",
      "File \u001b[0;32m/usr/lib64/python3.11/multiprocessing/pool.py:765\u001b[0m, in \u001b[0;36mApplyResult.wait\u001b[0;34m(self, timeout)\u001b[0m\n\u001b[1;32m    764\u001b[0m \u001b[39mdef\u001b[39;00m \u001b[39mwait\u001b[39m(\u001b[39mself\u001b[39m, timeout\u001b[39m=\u001b[39m\u001b[39mNone\u001b[39;00m):\n\u001b[0;32m--> 765\u001b[0m     \u001b[39mself\u001b[39;49m\u001b[39m.\u001b[39;49m_event\u001b[39m.\u001b[39;49mwait(timeout)\n",
      "File \u001b[0;32m/usr/lib64/python3.11/threading.py:622\u001b[0m, in \u001b[0;36mEvent.wait\u001b[0;34m(self, timeout)\u001b[0m\n\u001b[1;32m    620\u001b[0m signaled \u001b[39m=\u001b[39m \u001b[39mself\u001b[39m\u001b[39m.\u001b[39m_flag\n\u001b[1;32m    621\u001b[0m \u001b[39mif\u001b[39;00m \u001b[39mnot\u001b[39;00m signaled:\n\u001b[0;32m--> 622\u001b[0m     signaled \u001b[39m=\u001b[39m \u001b[39mself\u001b[39;49m\u001b[39m.\u001b[39;49m_cond\u001b[39m.\u001b[39;49mwait(timeout)\n\u001b[1;32m    623\u001b[0m \u001b[39mreturn\u001b[39;00m signaled\n",
      "File \u001b[0;32m/usr/lib64/python3.11/threading.py:320\u001b[0m, in \u001b[0;36mCondition.wait\u001b[0;34m(self, timeout)\u001b[0m\n\u001b[1;32m    318\u001b[0m \u001b[39mtry\u001b[39;00m:    \u001b[39m# restore state no matter what (e.g., KeyboardInterrupt)\u001b[39;00m\n\u001b[1;32m    319\u001b[0m     \u001b[39mif\u001b[39;00m timeout \u001b[39mis\u001b[39;00m \u001b[39mNone\u001b[39;00m:\n\u001b[0;32m--> 320\u001b[0m         waiter\u001b[39m.\u001b[39;49macquire()\n\u001b[1;32m    321\u001b[0m         gotit \u001b[39m=\u001b[39m \u001b[39mTrue\u001b[39;00m\n\u001b[1;32m    322\u001b[0m     \u001b[39melse\u001b[39;00m:\n",
      "\u001b[0;31mKeyboardInterrupt\u001b[0m: "
     ]
    }
   ],
   "source": [
    "population, logboook = eaSimpleElitism(\n",
    "    population,\n",
    "    toolbox,\n",
    "    cxpb=P_CROSSINGOCER,\n",
    "    mutpb=P_MUTATION,\n",
    "    # ngen=N_GENERATIONS,\n",
    "    ngen=1000,\n",
    "    stats=stats,\n",
    "    halloffame=hof,\n",
    "    verbose=True,\n",
    ")"
   ]
  },
  {
   "cell_type": "code",
   "execution_count": 29,
   "metadata": {},
   "outputs": [],
   "source": [
    "# save_population(population, \"weights/imaged/population.pickle\")"
   ]
  },
  {
   "cell_type": "code",
   "execution_count": 253,
   "metadata": {},
   "outputs": [],
   "source": [
    "def show_game(ind):\n",
    "    nn.set_weights(ind)\n",
    "    state, _ = env.reset()\n",
    "    total_steps = 0\n",
    "    steps_without_reward = 0\n",
    "    done = False\n",
    "    while not done:\n",
    "        clear_output(True)\n",
    "        plt.imshow(state)\n",
    "        plt.show()\n",
    "        state = preprocess_frame(state).flatten()\n",
    "        action = np.argmax(nn(state)) - 1\n",
    "        state, reward, done, _ = env.step(action)\n",
    "        total_steps += 1\n",
    "        steps_without_reward += 1\n",
    "        if reward == 1:\n",
    "            steps_without_reward = 0\n",
    "        if steps_without_reward > 50:\n",
    "            break\n",
    "        "
   ]
  },
  {
   "cell_type": "code",
   "execution_count": 254,
   "metadata": {},
   "outputs": [
    {
     "data": {
      "image/png": "[encoded data removed]",
      "text/plain": [
       "<Figure size 640x480 with 1 Axes>"
      ]
     },
     "metadata": {},
     "output_type": "display_data"
    }
   ],
   "source": [
    "show_game(population[0])"
   ]
  },
  {
   "cell_type": "markdown",
   "metadata": {},
   "source": [
    "# Now try vectorized"
   ]
  },
  {
   "cell_type": "code",
   "execution_count": 21,
   "metadata": {},
   "outputs": [],
   "source": [
    "# population = load_population(\"weights/vectorized/population.pickle\")"
   ]
  },
  {
   "cell_type": "code",
   "execution_count": 19,
   "metadata": {},
   "outputs": [],
   "source": [
    "def play_game_vectorized(ind):\n",
    "    nn.set_weights(ind)\n",
    "    state, _ = env.reset()\n",
    "    total_steps = 0\n",
    "    steps_without_reward = 0\n",
    "    done = False\n",
    "\n",
    "    while not done:\n",
    "        action = np.argmax(nn(state)) - 1\n",
    "        state, reward, done, _ = env.step(action)\n",
    "        total_steps += 1\n",
    "        steps_without_reward += 1\n",
    "        if reward == 10:\n",
    "            steps_without_reward = 0\n",
    "\n",
    "        if steps_without_reward > 120:\n",
    "            break\n",
    "        \n",
    "    apples_eaten = env.score - 3 # 3 is snake initial size that also counting as scores\n",
    "    total_reward = total_steps + (2**apples_eaten + apples_eaten**2.1 * 500) - (apples_eaten**1.2 * (total_steps / 4)**1.3)\n",
    "    return total_reward,"
   ]
  },
  {
   "cell_type": "code",
   "execution_count": 20,
   "metadata": {},
   "outputs": [],
   "source": [
    "toolbox.register(\"evaluate\", play_game_vectorized)"
   ]
  },
  {
   "cell_type": "code",
   "execution_count": 25,
   "metadata": {},
   "outputs": [
    {
     "name": "stdout",
     "output_type": "stream",
     "text": [
      "gen\tnevals\tmax    \tavg    \n",
      "0  \t0     \t2149.48\t85.0098\n",
      "1  \t900   \t2149.48\t111.986\n",
      "2  \t905   \t2149.48\t114.93 \n",
      "3  \t906   \t2149.48\t116.823\n",
      "4  \t906   \t2149.48\t120.863\n",
      "5  \t886   \t2149.48\t127.501\n",
      "6  \t916   \t2149.95\t121.373\n",
      "7  \t936   \t2149.95\t117.102\n",
      "8  \t917   \t2149.95\t122.667\n",
      "9  \t901   \t2149.95\t129.175\n",
      "10 \t917   \t2149.95\t128.094\n",
      "11 \t911   \t2149.95\t123.418\n",
      "12 \t904   \t2149.95\t134.739\n",
      "13 \t908   \t2149.95\t125.511\n",
      "14 \t901   \t2149.95\t129.741\n",
      "15 \t902   \t2149.95\t128.026\n",
      "16 \t905   \t2149.95\t136.22 \n",
      "17 \t904   \t2149.95\t134.594\n",
      "18 \t910   \t2149.95\t130.59 \n",
      "19 \t907   \t2149.95\t123.109\n",
      "20 \t906   \t2149.95\t127.387\n",
      "21 \t905   \t2149.95\t126.603\n",
      "22 \t913   \t2149.95\t129.845\n",
      "23 \t908   \t2149.95\t136.807\n",
      "24 \t917   \t2149.95\t140.356\n",
      "25 \t909   \t2149.99\t133.617\n",
      "26 \t923   \t2149.99\t131.145\n",
      "27 \t903   \t2149.99\t135.428\n",
      "28 \t912   \t2149.99\t133.009\n",
      "29 \t908   \t2149.99\t135.266\n",
      "30 \t912   \t2149.99\t126.114\n",
      "31 \t895   \t2149.99\t135.396\n",
      "32 \t921   \t5026.97\t133.672\n",
      "33 \t938   \t5026.97\t128.174\n",
      "34 \t904   \t5026.97\t127.73 \n",
      "35 \t933   \t5026.97\t129.755\n",
      "36 \t893   \t5026.97\t135.781\n",
      "37 \t901   \t5026.97\t126.516\n",
      "38 \t927   \t5026.97\t126.704\n",
      "39 \t898   \t5026.97\t133.108\n",
      "40 \t908   \t5026.97\t128.84 \n",
      "41 \t901   \t5026.97\t133.836\n",
      "42 \t897   \t5026.97\t132.156\n",
      "43 \t894   \t5026.97\t137.962\n",
      "44 \t899   \t5026.97\t137.131\n",
      "45 \t910   \t5026.97\t130.343\n",
      "46 \t893   \t5026.97\t136.537\n",
      "47 \t878   \t5026.97\t145.475\n",
      "48 \t905   \t5026.97\t138.134\n",
      "49 \t921   \t5026.97\t134.528\n",
      "50 \t889   \t5026.97\t136.586\n",
      "51 \t881   \t5026.97\t135.167\n",
      "52 \t912   \t5026.97\t131.854\n",
      "53 \t908   \t5026.97\t130.6  \n",
      "54 \t905   \t5026.97\t134.026\n",
      "55 \t918   \t5026.97\t132.714\n",
      "56 \t902   \t5026.97\t145.412\n",
      "57 \t908   \t5026.97\t140.695\n",
      "58 \t905   \t5026.97\t130.328\n",
      "59 \t909   \t5026.97\t130.645\n",
      "60 \t906   \t5026.97\t140.377\n",
      "61 \t921   \t5026.97\t138.017\n",
      "62 \t895   \t5026.97\t133.151\n",
      "63 \t910   \t5026.97\t145.237\n",
      "64 \t904   \t5026.97\t130.324\n",
      "65 \t918   \t5026.97\t127.194\n",
      "66 \t915   \t5026.97\t130.926\n",
      "67 \t905   \t5026.97\t141.823\n",
      "68 \t902   \t5026.97\t137.933\n",
      "69 \t914   \t5026.97\t138.296\n",
      "70 \t920   \t5026.97\t137.792\n",
      "71 \t926   \t5026.97\t141.623\n",
      "72 \t924   \t5026.97\t133.408\n",
      "73 \t885   \t5026.97\t132.748\n",
      "74 \t917   \t5026.97\t129.66 \n",
      "75 \t930   \t5026.97\t131.305\n",
      "76 \t895   \t5026.97\t128.859\n",
      "77 \t894   \t5026.97\t140.863\n",
      "78 \t920   \t5026.97\t140.58 \n",
      "79 \t906   \t5026.97\t134.715\n",
      "80 \t903   \t5026.97\t138.609\n",
      "81 \t902   \t5026.97\t130.357\n",
      "82 \t914   \t5026.97\t139.533\n",
      "83 \t906   \t5026.97\t135.116\n",
      "84 \t896   \t5026.97\t143.266\n",
      "85 \t892   \t5026.97\t131.588\n",
      "86 \t930   \t5026.97\t126.114\n",
      "87 \t903   \t5026.97\t132.201\n"
     ]
    },
    {
     "name": "stderr",
     "output_type": "stream",
     "text": [
      "/tmp/ipykernel_1061936/2441531404.py:22: RuntimeWarning: overflow encountered in exp\n",
      "  exp = np.exp(x)\n",
      "/tmp/ipykernel_1061936/2441531404.py:24: RuntimeWarning: invalid value encountered in divide\n",
      "  return np.round(exp/exp_sum, 3)\n",
      "/tmp/ipykernel_1061936/2441531404.py:22: RuntimeWarning: overflow encountered in exp\n",
      "  exp = np.exp(x)\n",
      "/tmp/ipykernel_1061936/2441531404.py:24: RuntimeWarning: invalid value encountered in divide\n",
      "  return np.round(exp/exp_sum, 3)\n",
      "/tmp/ipykernel_1061936/2441531404.py:22: RuntimeWarning: overflow encountered in exp\n",
      "  exp = np.exp(x)\n",
      "/tmp/ipykernel_1061936/2441531404.py:24: RuntimeWarning: invalid value encountered in divide\n",
      "  return np.round(exp/exp_sum, 3)\n",
      "/tmp/ipykernel_1061936/2441531404.py:22: RuntimeWarning: overflow encountered in exp\n",
      "  exp = np.exp(x)\n",
      "/tmp/ipykernel_1061936/2441531404.py:24: RuntimeWarning: invalid value encountered in divide\n",
      "  return np.round(exp/exp_sum, 3)\n"
     ]
    },
    {
     "ename": "KeyboardInterrupt",
     "evalue": "",
     "output_type": "error",
     "traceback": [
      "\u001b[0;31m---------------------------------------------------------------------------\u001b[0m",
      "\u001b[0;31mKeyboardInterrupt\u001b[0m                         Traceback (most recent call last)",
      "\u001b[1;32m/home/alex/projects/q_learning_practice/gen_algo.ipynb Cell 34\u001b[0m line \u001b[0;36m1\n\u001b[0;32m----> <a href='vscode-notebook-cell:/home/alex/projects/q_learning_practice/gen_algo.ipynb#X46sZmlsZQ%3D%3D?line=0'>1</a>\u001b[0m population, logboook \u001b[39m=\u001b[39m eaSimpleElitism(\n\u001b[1;32m      <a href='vscode-notebook-cell:/home/alex/projects/q_learning_practice/gen_algo.ipynb#X46sZmlsZQ%3D%3D?line=1'>2</a>\u001b[0m     population,\n\u001b[1;32m      <a href='vscode-notebook-cell:/home/alex/projects/q_learning_practice/gen_algo.ipynb#X46sZmlsZQ%3D%3D?line=2'>3</a>\u001b[0m     toolbox,\n\u001b[1;32m      <a href='vscode-notebook-cell:/home/alex/projects/q_learning_practice/gen_algo.ipynb#X46sZmlsZQ%3D%3D?line=3'>4</a>\u001b[0m     cxpb\u001b[39m=\u001b[39;49mP_CROSSINGOCER,\n\u001b[1;32m      <a href='vscode-notebook-cell:/home/alex/projects/q_learning_practice/gen_algo.ipynb#X46sZmlsZQ%3D%3D?line=4'>5</a>\u001b[0m     mutpb\u001b[39m=\u001b[39;49mP_MUTATION,\n\u001b[1;32m      <a href='vscode-notebook-cell:/home/alex/projects/q_learning_practice/gen_algo.ipynb#X46sZmlsZQ%3D%3D?line=5'>6</a>\u001b[0m     ngen\u001b[39m=\u001b[39;49m\u001b[39m300\u001b[39;49m,\n\u001b[1;32m      <a href='vscode-notebook-cell:/home/alex/projects/q_learning_practice/gen_algo.ipynb#X46sZmlsZQ%3D%3D?line=6'>7</a>\u001b[0m     stats\u001b[39m=\u001b[39;49mstats,\n\u001b[1;32m      <a href='vscode-notebook-cell:/home/alex/projects/q_learning_practice/gen_algo.ipynb#X46sZmlsZQ%3D%3D?line=7'>8</a>\u001b[0m     halloffame\u001b[39m=\u001b[39;49mhof,\n\u001b[1;32m      <a href='vscode-notebook-cell:/home/alex/projects/q_learning_practice/gen_algo.ipynb#X46sZmlsZQ%3D%3D?line=8'>9</a>\u001b[0m     verbose\u001b[39m=\u001b[39;49m\u001b[39mTrue\u001b[39;49;00m,\n\u001b[1;32m     <a href='vscode-notebook-cell:/home/alex/projects/q_learning_practice/gen_algo.ipynb#X46sZmlsZQ%3D%3D?line=9'>10</a>\u001b[0m )\n",
      "File \u001b[0;32m~/projects/q_learning_practice/elitism.py:37\u001b[0m, in \u001b[0;36meaSimpleElitism\u001b[0;34m(population, toolbox, cxpb, mutpb, ngen, stats, halloffame, verbose)\u001b[0m\n\u001b[1;32m     35\u001b[0m \u001b[39m# Evaluate the individuals with an invalid fitness\u001b[39;00m\n\u001b[1;32m     36\u001b[0m invalid_ind \u001b[39m=\u001b[39m [ind \u001b[39mfor\u001b[39;00m ind \u001b[39min\u001b[39;00m offspring \u001b[39mif\u001b[39;00m \u001b[39mnot\u001b[39;00m ind\u001b[39m.\u001b[39mfitness\u001b[39m.\u001b[39mvalid]\n\u001b[0;32m---> 37\u001b[0m fitnesses \u001b[39m=\u001b[39m toolbox\u001b[39m.\u001b[39;49mmap(toolbox\u001b[39m.\u001b[39;49mevaluate, invalid_ind)\n\u001b[1;32m     38\u001b[0m \u001b[39mfor\u001b[39;00m ind, fit \u001b[39min\u001b[39;00m \u001b[39mzip\u001b[39m(invalid_ind, fitnesses):\n\u001b[1;32m     39\u001b[0m     ind\u001b[39m.\u001b[39mfitness\u001b[39m.\u001b[39mvalues \u001b[39m=\u001b[39m fit\n",
      "File \u001b[0;32m/usr/lib64/python3.11/multiprocessing/pool.py:367\u001b[0m, in \u001b[0;36mPool.map\u001b[0;34m(self, func, iterable, chunksize)\u001b[0m\n\u001b[1;32m    362\u001b[0m \u001b[39mdef\u001b[39;00m \u001b[39mmap\u001b[39m(\u001b[39mself\u001b[39m, func, iterable, chunksize\u001b[39m=\u001b[39m\u001b[39mNone\u001b[39;00m):\n\u001b[1;32m    363\u001b[0m \u001b[39m    \u001b[39m\u001b[39m'''\u001b[39;00m\n\u001b[1;32m    364\u001b[0m \u001b[39m    Apply `func` to each element in `iterable`, collecting the results\u001b[39;00m\n\u001b[1;32m    365\u001b[0m \u001b[39m    in a list that is returned.\u001b[39;00m\n\u001b[1;32m    366\u001b[0m \u001b[39m    '''\u001b[39;00m\n\u001b[0;32m--> 367\u001b[0m     \u001b[39mreturn\u001b[39;00m \u001b[39mself\u001b[39;49m\u001b[39m.\u001b[39;49m_map_async(func, iterable, mapstar, chunksize)\u001b[39m.\u001b[39;49mget()\n",
      "File \u001b[0;32m/usr/lib64/python3.11/multiprocessing/pool.py:768\u001b[0m, in \u001b[0;36mApplyResult.get\u001b[0;34m(self, timeout)\u001b[0m\n\u001b[1;32m    767\u001b[0m \u001b[39mdef\u001b[39;00m \u001b[39mget\u001b[39m(\u001b[39mself\u001b[39m, timeout\u001b[39m=\u001b[39m\u001b[39mNone\u001b[39;00m):\n\u001b[0;32m--> 768\u001b[0m     \u001b[39mself\u001b[39;49m\u001b[39m.\u001b[39;49mwait(timeout)\n\u001b[1;32m    769\u001b[0m     \u001b[39mif\u001b[39;00m \u001b[39mnot\u001b[39;00m \u001b[39mself\u001b[39m\u001b[39m.\u001b[39mready():\n\u001b[1;32m    770\u001b[0m         \u001b[39mraise\u001b[39;00m \u001b[39mTimeoutError\u001b[39;00m\n",
      "File \u001b[0;32m/usr/lib64/python3.11/multiprocessing/pool.py:765\u001b[0m, in \u001b[0;36mApplyResult.wait\u001b[0;34m(self, timeout)\u001b[0m\n\u001b[1;32m    764\u001b[0m \u001b[39mdef\u001b[39;00m \u001b[39mwait\u001b[39m(\u001b[39mself\u001b[39m, timeout\u001b[39m=\u001b[39m\u001b[39mNone\u001b[39;00m):\n\u001b[0;32m--> 765\u001b[0m     \u001b[39mself\u001b[39;49m\u001b[39m.\u001b[39;49m_event\u001b[39m.\u001b[39;49mwait(timeout)\n",
      "File \u001b[0;32m/usr/lib64/python3.11/threading.py:622\u001b[0m, in \u001b[0;36mEvent.wait\u001b[0;34m(self, timeout)\u001b[0m\n\u001b[1;32m    620\u001b[0m signaled \u001b[39m=\u001b[39m \u001b[39mself\u001b[39m\u001b[39m.\u001b[39m_flag\n\u001b[1;32m    621\u001b[0m \u001b[39mif\u001b[39;00m \u001b[39mnot\u001b[39;00m signaled:\n\u001b[0;32m--> 622\u001b[0m     signaled \u001b[39m=\u001b[39m \u001b[39mself\u001b[39;49m\u001b[39m.\u001b[39;49m_cond\u001b[39m.\u001b[39;49mwait(timeout)\n\u001b[1;32m    623\u001b[0m \u001b[39mreturn\u001b[39;00m signaled\n",
      "File \u001b[0;32m/usr/lib64/python3.11/threading.py:320\u001b[0m, in \u001b[0;36mCondition.wait\u001b[0;34m(self, timeout)\u001b[0m\n\u001b[1;32m    318\u001b[0m \u001b[39mtry\u001b[39;00m:    \u001b[39m# restore state no matter what (e.g., KeyboardInterrupt)\u001b[39;00m\n\u001b[1;32m    319\u001b[0m     \u001b[39mif\u001b[39;00m timeout \u001b[39mis\u001b[39;00m \u001b[39mNone\u001b[39;00m:\n\u001b[0;32m--> 320\u001b[0m         waiter\u001b[39m.\u001b[39;49macquire()\n\u001b[1;32m    321\u001b[0m         gotit \u001b[39m=\u001b[39m \u001b[39mTrue\u001b[39;00m\n\u001b[1;32m    322\u001b[0m     \u001b[39melse\u001b[39;00m:\n",
      "\u001b[0;31mKeyboardInterrupt\u001b[0m: "
     ]
    }
   ],
   "source": [
    "population, logboook = eaSimpleElitism(\n",
    "    population,\n",
    "    toolbox,\n",
    "    cxpb=P_CROSSINGOCER,\n",
    "    mutpb=P_MUTATION,\n",
    "    ngen=300,\n",
    "    stats=stats,\n",
    "    halloffame=hof,\n",
    "    verbose=True,\n",
    ")"
   ]
  },
  {
   "cell_type": "code",
   "execution_count": 26,
   "metadata": {},
   "outputs": [],
   "source": [
    "save_population(population, \"weights/vectorized/population.pickle\")"
   ]
  },
  {
   "cell_type": "code",
   "execution_count": 23,
   "metadata": {},
   "outputs": [],
   "source": [
    "ind = max(population, key=lambda ind: ind.fitness.values)"
   ]
  },
  {
   "cell_type": "code",
   "execution_count": 25,
   "metadata": {},
   "outputs": [],
   "source": [
    "def show_game_vectorized(ind):\n",
    "    nn.set_weights(ind)\n",
    "    state, _ = env.reset()\n",
    "    total_steps = 0\n",
    "    steps_without_reward = 0\n",
    "    done = False\n",
    "    while not done:\n",
    "        clear_output(True)\n",
    "        state = frame_to_vector_distanced(state)\n",
    "        action = np.argmax(nn(state)) - 1\n",
    "        state, reward, done, _ = env.step(action)\n",
    "        total_steps += 1\n",
    "        steps_without_reward += 1\n",
    "        if reward == 1:\n",
    "            steps_without_reward = 0\n",
    "        if steps_without_reward > 50:\n",
    "            break\n",
    "        ax = plt.subplot()\n",
    "        ax.imshow(state)\n",
    "        ax.set_title(f\"{steps_without_reward=}\")\n",
    "        plt.show()\n",
    "    ax.imshow(state)"
   ]
  },
  {
   "cell_type": "code",
   "execution_count": 26,
   "metadata": {},
   "outputs": [
    {
     "data": {
      "image/png": "[encoded data removed]",
      "text/plain": [
       "<Figure size 640x480 with 1 Axes>"
      ]
     },
     "metadata": {},
     "output_type": "display_data"
    }
   ],
   "source": [
    "show_game_vectorized(ind)"
   ]
  }
 ],
 "metadata": {
  "kernelspec": {
   "display_name": "ga-11-6Uwwbob_-py3.11",
   "language": "python",
   "name": "python3"
  },
  "language_info": {
   "codemirror_mode": {
    "name": "ipython",
    "version": 3
   },
   "file_extension": ".py",
   "mimetype": "text/x-python",
   "name": "python",
   "nbconvert_exporter": "python",
   "pygments_lexer": "ipython3",
   "version": "3.11.5"
  },
  "orig_nbformat": 4
 },
 "nbformat": 4,
 "nbformat_minor": 2
}
